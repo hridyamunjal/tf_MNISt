{
  "nbformat": 4,
  "nbformat_minor": 0,
  "metadata": {
    "colab": {
      "provenance": []
    },
    "kernelspec": {
      "name": "python3",
      "display_name": "Python 3"
    },
    "language_info": {
      "name": "python"
    }
  },
  "cells": [
    {
      "cell_type": "code",
      "execution_count": null,
      "metadata": {
        "colab": {
          "base_uri": "https://localhost:8080/"
        },
        "id": "fKTsUMn0j8L6",
        "outputId": "4a4fe356-a785-46ca-a86f-6e539a510a10"
      },
      "outputs": [
        {
          "output_type": "stream",
          "name": "stdout",
          "text": [
            "Epoch 1/10\n",
            "1688/1688 [==============================] - 10s 5ms/step - loss: 0.2724 - accuracy: 0.9225 - val_loss: 0.1239 - val_accuracy: 0.9645\n",
            "Epoch 2/10\n",
            "1688/1688 [==============================] - 9s 6ms/step - loss: 0.1208 - accuracy: 0.9646 - val_loss: 0.1012 - val_accuracy: 0.9718\n",
            "Epoch 3/10\n",
            "1688/1688 [==============================] - 8s 5ms/step - loss: 0.0830 - accuracy: 0.9749 - val_loss: 0.0837 - val_accuracy: 0.9748\n",
            "Epoch 4/10\n",
            "1688/1688 [==============================] - 9s 5ms/step - loss: 0.0619 - accuracy: 0.9809 - val_loss: 0.0781 - val_accuracy: 0.9775\n",
            "Epoch 5/10\n",
            " 873/1688 [==============>...............] - ETA: 4s - loss: 0.0450 - accuracy: 0.9867"
          ]
        }
      ],
      "source": [
        "import tensorflow as tf\n",
        "from tensorflow.keras.datasets import mnist\n",
        "from tensorflow.keras.models import Sequential\n",
        "from tensorflow.keras.layers import Dense, Flatten\n",
        "from tensorflow.keras.utils import to_categorical\n",
        "\n",
        "# MNIST dataset\n",
        "(X_train, y_train), (X_test, y_test) = mnist.load_data()\n",
        "\n",
        "# Preprocess \n",
        "X_train = X_train / 255.0\n",
        "X_test = X_test / 255.0\n",
        "y_train = to_categorical(y_train)\n",
        "y_test = to_categorical(y_test)\n",
        "\n",
        "\n",
        "model = Sequential()\n",
        "model.add(Flatten(input_shape=(28, 28)))  # Flatten the 2D input images into a 1D array\n",
        "model.add(Dense(128, activation='relu'))  # Hidden layer with 128 units and ReLU activation\n",
        "model.add(Dense(10, activation='softmax'))  # Output layer with 10 units (one for each digit) and softmax activation\n",
        "\n",
        "model.compile(optimizer='adam', loss='categorical_crossentropy', metrics=['accuracy'])\n",
        "\n",
        "# Train \n",
        "model.fit(X_train, y_train, epochs=10, batch_size=32, validation_split=0.1)\n",
        "\n",
        "# Evaluate \n",
        "loss, accuracy = model.evaluate(X_test, y_test)\n",
        "print(f'Test Loss: {loss:.4f}')\n",
        "print(f'Test Accuracy: {accuracy:.4f}')\n",
        "\n",
        "#  predictions\n",
        "predictions = model.predict(X_test[:5])\n",
        "predicted_labels = [tf.argmax(prediction).numpy() for prediction in predictions]\n",
        "print('Predicted Labels:', predicted_labels)\n"
      ]
    }
  ]
}