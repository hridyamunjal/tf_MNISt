import keras
from keras.datasets import mnist
from keras.models import Sequential
from keras.layers import Dense, Flatten
from keras.utils import to_categorical

#  MNIST dataset
(X_train, y_train), (X_test, y_test) = mnist.load_data()

# Preprocess the data
X_train = X_train / 255.0
X_test = X_test / 255.0
y_train = to_categorical(y_train)
y_test = to_categorical(y_test)

model = Sequential()
model.add(Flatten(input_shape=(28, 28)))  # Flatten the 2D input images into a 1D array
model.add(Dense(128, activation='relu'))  # Hidden layer with 128 units and ReLU activation
model.add(Dense(10, activation='softmax'))  # Output layer with 10 units (one for each digit) and softmax activation


model.compile(optimizer='adam', loss='categorical_crossentropy', metrics=['accuracy'])

# Train 
model.fit(X_train, y_train, epochs=10, batch_size=32, validation_split=0.1)

# Evaluate
loss, accuracy = model.evaluate(X_test, y_test)
print(f'Test Loss: {loss:.4f}')
print(f'Test Accuracy: {accuracy:.4f}')

# predictions
predictions = model.predict(X_test[:5])
predicted_labels = [keras.backend.argmax(prediction).numpy() for prediction in predictions]
print('Predicted Labels:', predicted_labels)
